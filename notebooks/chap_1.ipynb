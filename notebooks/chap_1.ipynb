{
 "cells": [
  {
   "cell_type": "code",
   "execution_count": 53,
   "metadata": {},
   "outputs": [],
   "source": [
    "import math\n",
    "import numpy as np\n",
    "import pandas as pd\n",
    "from pylab import plt, mpl\n",
    "plt.style.use('seaborn')\n",
    "mpl.rcParams['font.family'] = 'serif'\n",
    "%matplotlib inline\n",
    "\n",
    "from sympy import *\n",
    "init_printing()\n",
    "from sympy.abc import i, k, m, n, x\n"
   ]
  },
  {
   "cell_type": "markdown",
   "metadata": {},
   "source": [
    "### Finance and Python Syntax\n",
    "Monte Carlo simulation w/ Black-Scholes-Merton (BSM) set-up"
   ]
  },
  {
   "cell_type": "code",
   "execution_count": 42,
   "metadata": {},
   "outputs": [],
   "source": [
    "C_0, I, j, sigma, S_T, s_0, r, T, z = symbols('C_0, I, j, sigma, S_T, s_0, r, T, z')\n",
    "h_T = symbols('h_T', cls=Function)"
   ]
  },
  {
   "cell_type": "code",
   "execution_count": 43,
   "metadata": {},
   "outputs": [
    {
     "data": {
      "image/png": "[encoded data removed]",
      "text/latex": [
       "$$s_{0} e^{\\sqrt{T} \\sigma z + T \\left(r - 0.5 \\sigma^{2}\\right)}$$"
      ],
      "text/plain": [
       "               ⎛         2⎞\n",
       "    √T⋅σ⋅z + T⋅⎝r - 0.5⋅σ ⎠\n",
       "s₀⋅ℯ                       "
      ]
     },
     "execution_count": 43,
     "metadata": {},
     "output_type": "execute_result"
    }
   ],
   "source": [
    "s_0*exp((r-1/2*sigma**2)*T + sigma*sqrt(T)*z) # BSM index level at maturity"
   ]
  },
  {
   "cell_type": "code",
   "execution_count": 45,
   "metadata": {},
   "outputs": [
    {
     "data": {
      "image/png": "[encoded data removed]",
      "text/latex": [
       "$$\\frac{1}{I} e^{- T r} \\sum_{k=I}^{m} \\operatorname{h_{T}}{\\left (i \\right )}$$"
      ],
      "text/plain": [
       "        m         \n",
       "       ___        \n",
       "       ╲          \n",
       " -T⋅r   ╲   h_T(i)\n",
       "ℯ    ⋅  ╱         \n",
       "       ╱          \n",
       "       ‾‾‾        \n",
       "      k = I       \n",
       "──────────────────\n",
       "        I         "
      ]
     },
     "execution_count": 45,
     "metadata": {},
     "output_type": "execute_result"
    }
   ],
   "source": [
    "exp(-r*T)*1/I * Sum(h_T(i), (k, I, m)) # Monte Carlo estimator for European option"
   ]
  },
  {
   "cell_type": "code",
   "execution_count": 50,
   "metadata": {},
   "outputs": [
    {
     "name": "stdout",
     "output_type": "stream",
     "text": [
      "Value of the European call option: 8.019.\n"
     ]
    }
   ],
   "source": [
    "###Parameters\n",
    "S0 = 100. # initial stock index level\n",
    "K = 105. # strike price of the European call option\n",
    "T = 1 # time to maturity (years)\n",
    "r = 0.05 # riskless short rate\n",
    "sigma = 0.2 # constant volatility\n",
    "\n",
    "I = 100000\n",
    "np.random.seed(1000)\n",
    "z = np.random.standard_normal(I)\n",
    "\n",
    "ST = S0 * np.exp((r - sigma**2 / 2) * T + sigma * math.sqrt(T) * z)\n",
    "hT = np.maximum(ST - K, 0)\n",
    "C0 = math.exp(-r * T) * np.mean(hT)\n",
    "\n",
    "print(\"Value of the European call option: {:5.3f}.\".format(C0))"
   ]
  },
  {
   "cell_type": "code",
   "execution_count": null,
   "metadata": {},
   "outputs": [],
   "source": []
  }
 ],
 "metadata": {
  "kernelspec": {
   "display_name": "Python 3",
   "language": "python",
   "name": "python3"
  },
  "language_info": {
   "codemirror_mode": {
    "name": "ipython",
    "version": 3
   },
   "file_extension": ".py",
   "mimetype": "text/x-python",
   "name": "python",
   "nbconvert_exporter": "python",
   "pygments_lexer": "ipython3",
   "version": "3.6.5"
  }
 },
 "nbformat": 4,
 "nbformat_minor": 2
}
